{
 "cells": [
  {
   "cell_type": "code",
   "execution_count": 8,
   "id": "5933c158",
   "metadata": {},
   "outputs": [],
   "source": [
    "import pandas as pd\n",
    "import json\n",
    "\n",
    "# Baca file CSV menggunakan pandas\n",
    "df = pd.read_csv('testing_data.csv')\n",
    "\n",
    "# Buat daftar objek untuk fixture Django\n",
    "fixture_list = []\n",
    "for index, row in df.iterrows():\n",
    "    fixture = {\n",
    "        \"model\": \"map.TestingData\",\n",
    "        \"fields\": {\n",
    "            \"Peruntukan\": row[\"Peruntukan\"],\n",
    "            \"Pusat_kota\": row[\"Pusat_kota\"],\n",
    "            \"Visibilitas\": row[\"Visibilitas\"],\n",
    "            \"Bangunan\": row[\"Bangunan\"],\n",
    "            \"Luas\": row[\"Luas\"],\n",
    "            \"latitude\": row[\"Latitude\"],\n",
    "            \"longitude\": row[\"Longitude\"],\n",
    "            \"Deskripsi\": row[\"Deskripsi\"]\n",
    "        }\n",
    "    }\n",
    "    fixture_list.append(fixture)\n",
    "\n",
    "# Tulis fixture ke file JSON\n",
    "with open('TestingData.json', 'w') as json_file:\n",
    "    json.dump(fixture_list, json_file, indent=4)\n"
   ]
  },
  {
   "cell_type": "code",
   "execution_count": 9,
   "id": "49d997ba",
   "metadata": {},
   "outputs": [],
   "source": [
    "import pandas as pd\n",
    "import json\n",
    "\n",
    "# Baca file CSV menggunakan pandas\n",
    "df = pd.read_csv('training_data.csv')\n",
    "\n",
    "# Buat daftar objek untuk fixture Django\n",
    "fixture_list = []\n",
    "for index, row in df.iterrows():\n",
    "    fixture = {\n",
    "        \"model\": \"map.TrainingData\",\n",
    "        \"fields\": {\n",
    "            \"Peruntukan\": row[\"Peruntukan\"],\n",
    "            \"Pusat_kota\": row[\"Pusat_kota\"],\n",
    "            \"Visibilitas\": row[\"Visibilitas\"],\n",
    "            \"Bangunan\": row[\"Bangunan\"],\n",
    "            \"Luas\": row[\"Luas\"],\n",
    "            \"latitude\": row[\"Latitude\"],\n",
    "            \"longitude\": row[\"Longitude\"],\n",
    "            \"Deskripsi\": row[\"Deskripsi\"]\n",
    "        }\n",
    "    }\n",
    "    fixture_list.append(fixture)\n",
    "\n",
    "# Tulis fixture ke file JSON\n",
    "with open('TrainingData.json', 'w') as json_file:\n",
    "    json.dump(fixture_list, json_file, indent=4)\n"
   ]
  },
  {
   "cell_type": "code",
   "execution_count": null,
   "id": "0f911be0",
   "metadata": {},
   "outputs": [],
   "source": []
  }
 ],
 "metadata": {
  "kernelspec": {
   "display_name": "Python 3 (ipykernel)",
   "language": "python",
   "name": "python3"
  },
  "language_info": {
   "codemirror_mode": {
    "name": "ipython",
    "version": 3
   },
   "file_extension": ".py",
   "mimetype": "text/x-python",
   "name": "python",
   "nbconvert_exporter": "python",
   "pygments_lexer": "ipython3",
   "version": "3.10.8"
  }
 },
 "nbformat": 4,
 "nbformat_minor": 5
}
