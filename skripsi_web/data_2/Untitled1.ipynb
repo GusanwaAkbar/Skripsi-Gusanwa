{
 "cells": [
  {
   "cell_type": "code",
   "execution_count": 4,
   "id": "26e141c1",
   "metadata": {},
   "outputs": [
    {
     "ename": "ValueError",
     "evalue": "shapes (1,2) and (3,2) not aligned: 2 (dim 1) != 3 (dim 0)",
     "output_type": "error",
     "traceback": [
      "\u001b[0;31m---------------------------------------------------------------------------\u001b[0m",
      "\u001b[0;31mValueError\u001b[0m                                Traceback (most recent call last)",
      "Input \u001b[0;32mIn [4]\u001b[0m, in \u001b[0;36m<cell line: 20>\u001b[0;34m()\u001b[0m\n\u001b[1;32m     17\u001b[0m b2 \u001b[38;5;241m=\u001b[39m np\u001b[38;5;241m.\u001b[39marray([[\u001b[38;5;241m0.4\u001b[39m, \u001b[38;5;241m0.5\u001b[39m, \u001b[38;5;241m0.6\u001b[39m]])\n\u001b[1;32m     19\u001b[0m \u001b[38;5;66;03m# Forward pass\u001b[39;00m\n\u001b[0;32m---> 20\u001b[0m Z1 \u001b[38;5;241m=\u001b[39m \u001b[43mX\u001b[49m\u001b[38;5;241;43m.\u001b[39;49m\u001b[43mdot\u001b[49m\u001b[43m(\u001b[49m\u001b[43mW1\u001b[49m\u001b[43m)\u001b[49m \u001b[38;5;241m+\u001b[39m b1\n\u001b[1;32m     21\u001b[0m A1 \u001b[38;5;241m=\u001b[39m relu(Z1)\n\u001b[1;32m     22\u001b[0m Z2 \u001b[38;5;241m=\u001b[39m A1\u001b[38;5;241m.\u001b[39mdot(W2) \u001b[38;5;241m+\u001b[39m b2\n",
      "\u001b[0;31mValueError\u001b[0m: shapes (1,2) and (3,2) not aligned: 2 (dim 1) != 3 (dim 0)"
     ]
    }
   ],
   "source": [
    "import numpy as np\n",
    "\n",
    "# Define the ReLU activation function and its derivative\n",
    "def relu(x):\n",
    "    return np.maximum(0, x)\n",
    "\n",
    "def relu_derivative(x):\n",
    "    return np.where(x > 0, 1, 0)\n",
    "\n",
    "# Define the input, target output, weights, and biases\n",
    "X = np.array([[1, 2]])\n",
    "y = np.array([[0, 1, 0]])\n",
    "\n",
    "W1 = np.array([[0.1, 0.2], [0.3, 0.4], [0.5, 0.6]])\n",
    "b1 = np.array([[0.1, 0.2, 0.3]])\n",
    "W2 = np.array([[0.7, 0.8, 0.9]])\n",
    "b2 = np.array([[0.4, 0.5, 0.6]])\n",
    "\n",
    "# Forward pass\n",
    "Z1 = X.dot(W1) + b1\n",
    "A1 = relu(Z1)\n",
    "Z2 = A1.dot(W2) + b2\n",
    "A2 = 1 / (1 + np.exp(-Z2))\n",
    "L = -np.sum(y * np.log(A2) + (1-y) * np.log(1-A2))\n",
    "\n",
    "# Backward pass\n",
    "dL_dA2 = - (y/A2) + ((1-y)/(1-A2))\n",
    "dL_dZ2 = A2 - y\n",
    "dL_dW2 = A1.T.dot(dL_dZ2)\n",
    "dL_db2 = np.sum(dL_dZ2, axis=0, keepdims=True)\n",
    "dL_dA1 = dL_dZ2.dot(W2.T)\n",
    "dL_dZ1 = dL_dA1 * relu_derivative(Z1)\n",
    "dL_dW1 = X.T.dot(dL_dZ1)\n",
    "dL_db1 = np.sum(dL_dZ1, axis=0, keepdims=True)\n",
    "\n",
    "# Print the gradients\n",
    "print(\"dL_dW1:\", dL_dW1)\n",
    "print(\"dL_db1:\", dL_db1)\n",
    "print(\"dL_dW2:\", dL_dW2)\n",
    "print(\"dL_db2:\", dL_db2)\n"
   ]
  },
  {
   "cell_type": "code",
   "execution_count": null,
   "id": "523d8ecd",
   "metadata": {},
   "outputs": [],
   "source": []
  }
 ],
 "metadata": {
  "kernelspec": {
   "display_name": "Python 3 (ipykernel)",
   "language": "python",
   "name": "python3"
  },
  "language_info": {
   "codemirror_mode": {
    "name": "ipython",
    "version": 3
   },
   "file_extension": ".py",
   "mimetype": "text/x-python",
   "name": "python",
   "nbconvert_exporter": "python",
   "pygments_lexer": "ipython3",
   "version": "3.10.8"
  }
 },
 "nbformat": 4,
 "nbformat_minor": 5
}
